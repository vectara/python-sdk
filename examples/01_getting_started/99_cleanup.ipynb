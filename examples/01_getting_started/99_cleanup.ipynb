{
 "cells": [
  {
   "cell_type": "markdown",
   "source": [
    "# Delete Labs\n",
    "After running the labs, we can delete all the \"Getting Started\" labs with the following command."
   ],
   "metadata": {
    "collapsed": false
   },
   "id": "9c8665adda16cc32"
  },
  {
   "cell_type": "code",
   "outputs": [],
   "source": [
    "from vectara.factory import Factory\n",
    "from vectara.managers import CreateCorpusRequest\n",
    "from pathlib import Path\n",
    "import logging\n",
    "\n",
    "logging.basicConfig(format='%(asctime)s:%(name)-35s %(levelname)s:%(message)s', level=logging.INFO, datefmt='%H:%M:%S %z')\n",
    "logger = logging.getLogger(__name__)\n",
    "\n",
    "client = Factory(profile=\"lab\").build()\n",
    "client.lab_helper.delete_labs(\"Getting Started\")"
   ],
   "metadata": {
    "collapsed": false
   },
   "id": "a155ec55c5b2104f",
   "execution_count": null
  }
 ],
 "metadata": {
  "kernelspec": {
   "display_name": "Python 3",
   "language": "python",
   "name": "python3"
  },
  "language_info": {
   "codemirror_mode": {
    "name": "ipython",
    "version": 2
   },
   "file_extension": ".py",
   "mimetype": "text/x-python",
   "name": "python",
   "nbconvert_exporter": "python",
   "pygments_lexer": "ipython2",
   "version": "2.7.6"
  }
 },
 "nbformat": 4,
 "nbformat_minor": 5
}
