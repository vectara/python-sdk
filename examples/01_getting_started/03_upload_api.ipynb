{
 "cells": [
  {
   "cell_type": "markdown",
   "source": [
    "# Getting Started - Lab 03 - Vectara Upload API\n",
    "\n",
    "We'll now explore the Vectara Upload API.\n",
    "\n",
    "This notebook will use our \"lab\" authentication profile, if you haven't set this up, please [Setup Authentication](./00_setup_authentication.ipynb).\n"
   ],
   "metadata": {
    "collapsed": false
   },
   "id": "a0f8b05fe3b9579a"
  },
  {
   "cell_type": "code",
   "outputs": [],
   "source": [
    "from vectara.factory import Factory\n",
    "from vectara.managers import CreateCorpusRequest\n",
    "from pathlib import Path\n",
    "import logging\n",
    "\n",
    "logging.basicConfig(format='%(asctime)s:%(name)-35s %(levelname)s:%(message)s', level=logging.INFO, datefmt='%H:%M:%S %z')\n",
    "logger = logging.getLogger(__name__)\n",
    "\n",
    "client = Factory(profile=\"lab\").build()"
   ],
   "metadata": {
    "collapsed": false
   },
   "id": "81670349a8eba05b",
   "execution_count": null
  },
  {
   "cell_type": "markdown",
   "source": [
    "## Setup Corpus\n",
    "We will setup a lab corpus below before we upload our data. We'll examine this in more depth in the following notebooks."
   ],
   "metadata": {
    "collapsed": false
   },
   "id": "900b609070d82c4d"
  },
  {
   "cell_type": "code",
   "outputs": [],
   "source": [
    "request = CreateCorpusRequest(name=\"Getting Started - Upload API\", key=\"03-getting-started-upload-api\")\n",
    "response = client.lab_helper.create_lab_corpus(request)\n",
    "\n",
    "logger.info(f\"Our corpus key is [{response.key}]\")"
   ],
   "metadata": {
    "collapsed": false
   },
   "id": "2c57e8fb09b980eb",
   "execution_count": null
  },
  {
   "cell_type": "markdown",
   "source": [
    "## Load Our Content\n",
    "We'll now upload a research article from the Arxiv research repository."
   ],
   "metadata": {
    "collapsed": false
   },
   "id": "f46ddfe066d64d9e"
  },
  {
   "cell_type": "code",
   "outputs": [],
   "source": [
    "upload_manager = client.upload_manager\n",
    "\n",
    "upload_manager.upload(response.key, \"./resources/arxiv/2409.05865v1.pdf\")"
   ],
   "metadata": {
    "collapsed": false
   },
   "id": "80a469b8ff507628",
   "execution_count": null
  },
  {
   "cell_type": "markdown",
   "source": [
    "## Check the data is in the Corpus\n",
    "We can run a list on our corpus documents"
   ],
   "metadata": {
    "collapsed": false
   },
   "id": "2b5985777b05fa23"
  },
  {
   "cell_type": "code",
   "outputs": [],
   "source": [
    "client.documents.list_corpus(response.key)"
   ],
   "metadata": {
    "collapsed": false
   },
   "id": "c46bf8369ae47ce1",
   "execution_count": null
  },
  {
   "cell_type": "markdown",
   "source": [
    "## Upload with Different Name\n",
    "Each document must have a unique name which we refer to as the \"document Id\". We can specify a different name for the document as per below."
   ],
   "metadata": {
    "collapsed": false
   },
   "id": "64177fcc426a58d7"
  },
  {
   "cell_type": "code",
   "outputs": [],
   "source": [
    "upload_manager.upload(response.key, \"./resources/arxiv/2409.05865v1.pdf\", doc_id=\"Better_Models_for_Robotics\")"
   ],
   "metadata": {
    "collapsed": false
   },
   "id": "65813ec1f239c9b8",
   "execution_count": null
  },
  {
   "cell_type": "markdown",
   "source": [
    "## Re-Run the Document List\n",
    "We'll now see two documents in the corpus."
   ],
   "metadata": {
    "collapsed": false
   },
   "id": "e5050d2bf643894"
  },
  {
   "cell_type": "code",
   "outputs": [],
   "source": [
    "client.documents.list(response.key, metadata_filter=\"doc.id = 'Better_Models_for_Robotics'\")"
   ],
   "metadata": {
    "collapsed": false
   },
   "id": "1773c5d797e7fd7c",
   "execution_count": null
  }
 ],
 "metadata": {
  "kernelspec": {
   "display_name": "Python 3",
   "language": "python",
   "name": "python3"
  },
  "language_info": {
   "codemirror_mode": {
    "name": "ipython",
    "version": 2
   },
   "file_extension": ".py",
   "mimetype": "text/x-python",
   "name": "python",
   "nbconvert_exporter": "python",
   "pygments_lexer": "ipython2",
   "version": "2.7.6"
  }
 },
 "nbformat": 4,
 "nbformat_minor": 5
}
