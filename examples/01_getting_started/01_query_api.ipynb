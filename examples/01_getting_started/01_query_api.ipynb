{
 "cells": [
  {
   "cell_type": "markdown",
   "source": [
    "# Vectara Query API\n",
    "\n",
    "We'll now explore the Vectara Query API.\n",
    "\n",
    "This notebook will use our \"lab\" authentication profile, if you haven't set this up, please [Setup Authentication](./00_setup_authentication.ipynb)."
   ],
   "metadata": {
    "collapsed": false
   },
   "id": "911f035f8081e44a"
  },
  {
   "cell_type": "code",
   "outputs": [
    {
     "name": "stderr",
     "output_type": "stream",
     "text": [
      "11:25:23 +1000:Factory                             INFO:initializing builder\n",
      "11:25:23 +1000:Factory                             INFO:Factory will load configuration from home directory\n",
      "11:25:23 +1000:HomeConfigLoader                    INFO:Loading configuration from users home directory [C:\\Users\\david]\n",
      "11:25:23 +1000:HomeConfigLoader                    INFO:Loading specified profile [lab]\n",
      "11:25:23 +1000:root                                INFO:We are processing authentication type [ApiKey]\n"
     ]
    }
   ],
   "source": [
    "from vectara.factory import Factory\n",
    "from vectara.managers import CreateCorpusRequest\n",
    "import logging\n",
    "\n",
    "logging.basicConfig(format='%(asctime)s:%(name)-35s %(levelname)s:%(message)s', level=logging.INFO, datefmt='%H:%M:%S %z')\n",
    "logger = logging.getLogger(__name__)\n",
    "\n",
    "client = Factory(profile=\"lab\").build()\n"
   ],
   "metadata": {
    "collapsed": false,
    "ExecuteTime": {
     "end_time": "2024-09-10T01:25:24.219795Z",
     "start_time": "2024-09-10T01:25:23.954365Z"
    }
   },
   "id": "e8a811121b45a1f1",
   "execution_count": 3
  },
  {
   "cell_type": "markdown",
   "source": [
    "## Setup Corpus and Data\n",
    "Before we can run queries, we setup a corpus and some data. We'll examine this in more depth in the following notebooks."
   ],
   "metadata": {
    "collapsed": false
   },
   "id": "c570f1491d387ffd"
  },
  {
   "cell_type": "code",
   "outputs": [
    {
     "name": "stderr",
     "output_type": "stream",
     "text": [
      "11:25:28 +1000:LabHelper                           INFO:Found username from environment [david]\n",
      "11:25:28 +1000:LabHelper                           INFO:Converted username is [david]\n",
      "11:25:28 +1000:LabHelper                           INFO:Lab corpus name will be [david - query-api]\n",
      "11:25:28 +1000:LabHelper                           INFO:Lab corpus key will be [david_101-filter-attr]\n",
      "11:25:28 +1000:LabHelper                           INFO:Creating lab corpus\n",
      "11:25:28 +1000:CorpusManager                       INFO:Performing account checks before corpus creation for name [david - query-api]\n",
      "11:25:29 +1000:httpx                               INFO:HTTP Request: GET https://api.vectara.io/v2/corpora/david_101-filter-attr \"HTTP/1.1 200 OK\"\n",
      "11:25:29 +1000:CorpusManager                       INFO:We found existing corpus with key [david_101-filter-attr]\n",
      "11:25:31 +1000:httpx                               INFO:HTTP Request: DELETE https://api.vectara.io/v2/corpora/david_101-filter-attr \"HTTP/1.1 204 No Content\"\n",
      "11:25:31 +1000:CorpusManager                       INFO:Account checks complete, creating the new corpus\n",
      "11:25:32 +1000:httpx                               INFO:HTTP Request: POST https://api.vectara.io/v2/corpora \"HTTP/1.1 201 Created\"\n",
      "11:25:32 +1000:__main__                            INFO:Our corpus key is [david_101-filter-attr]\n"
     ]
    }
   ],
   "source": [
    "request = CreateCorpusRequest(name=\"query-api\", key=\"101-filter-attr\")\n",
    "response = client.lab_helper.create_lab_corpus(request)\n",
    "\n",
    "logger.info(f\"Our corpus key is [{response.key}]\")"
   ],
   "metadata": {
    "collapsed": false,
    "ExecuteTime": {
     "end_time": "2024-09-10T01:25:32.867749Z",
     "start_time": "2024-09-10T01:25:28.623630Z"
    }
   },
   "id": "3a835f493f311f57",
   "execution_count": 4
  },
  {
   "cell_type": "code",
   "outputs": [],
   "source": [],
   "metadata": {
    "collapsed": false
   },
   "id": "5c8d61cc6c0d91c2"
  }
 ],
 "metadata": {
  "kernelspec": {
   "display_name": "Python 3",
   "language": "python",
   "name": "python3"
  },
  "language_info": {
   "codemirror_mode": {
    "name": "ipython",
    "version": 2
   },
   "file_extension": ".py",
   "mimetype": "text/x-python",
   "name": "python",
   "nbconvert_exporter": "python",
   "pygments_lexer": "ipython2",
   "version": "2.7.6"
  }
 },
 "nbformat": 4,
 "nbformat_minor": 5
}
