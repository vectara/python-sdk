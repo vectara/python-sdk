{
 "cells": [
  {
   "cell_type": "markdown",
   "id": "911f035f8081e44a",
   "metadata": {
    "collapsed": false,
    "jupyter": {
     "outputs_hidden": false
    }
   },
   "source": [
    "# Getting Started - Lab 01 - Vectara Query API\n",
    "\n",
    "We'll now explore the Vectara Query API.\n",
    "\n",
    "This notebook will use our \"lab\" authentication profile, if you haven't set this up, please [Setup Authentication](./00_setup_authentication.ipynb)."
   ]
  },
  {
   "cell_type": "code",
   "execution_count": null,
   "id": "e8a811121b45a1f1",
   "metadata": {
    "ExecuteTime": {
     "end_time": "2024-09-19T00:04:35.640946Z",
     "start_time": "2024-09-19T00:04:32.347349Z"
    },
    "collapsed": false,
    "jupyter": {
     "outputs_hidden": false
    }
   },
   "outputs": [],
   "source": [
    "from vectara.factory import Factory\n",
    "from vectara.managers import CreateCorpusRequest\n",
    "from getting_started_util import GettingStartedUtil\n",
    "\n",
    "util = GettingStartedUtil()\n",
    "logger = util.logger\n",
    "client = Factory(profile=\"lab\").build()\n"
   ]
  },
  {
   "cell_type": "markdown",
   "id": "c570f1491d387ffd",
   "metadata": {
    "collapsed": false,
    "jupyter": {
     "outputs_hidden": false
    }
   },
   "source": [
    "## Setup Corpus and Data\n",
    "Before we can run queries, we setup a corpus and some data. We'll examine this in more depth in the following notebooks."
   ]
  },
  {
   "cell_type": "code",
   "execution_count": null,
   "id": "3a835f493f311f57",
   "metadata": {
    "ExecuteTime": {
     "end_time": "2024-09-19T00:04:53.285458Z",
     "start_time": "2024-09-19T00:04:42.868730Z"
    },
    "collapsed": false,
    "jupyter": {
     "outputs_hidden": false
    }
   },
   "outputs": [],
   "source": [
    "corpus_key = util.setup_01(client)"
   ]
  },
  {
   "cell_type": "markdown",
   "id": "4fe7b384e8192f95",
   "metadata": {
    "collapsed": false,
    "jupyter": {
     "outputs_hidden": false
    }
   },
   "source": [
    "# Query Types\n",
    "Vectara supports three query interfaces, in addition to chat which will be covered seperately.\n",
    "\n",
    "1. Simple Single Corpus Query\n",
    "2. Advanced Single Corpus Query\n",
    "3. Multiple Corpora Query \n",
    "\n",
    "We'll now examine how you can invoke each of these with the SDK.\n",
    "\n",
    "## Single Corpus Query\n",
    "The following code performs a query against a single corpus using the convenience method which invokes [Simple Single Corpus Query REST API](https://docs.vectara.com/docs/rest-api/search-corpus)."
   ]
  },
  {
   "cell_type": "code",
   "execution_count": null,
   "id": "fc65736b2cae5c4a",
   "metadata": {
    "ExecuteTime": {
     "end_time": "2024-09-19T00:06:36.900750Z",
     "start_time": "2024-09-19T00:06:35.921392Z"
    },
    "collapsed": false,
    "jupyter": {
     "outputs_hidden": false
    }
   },
   "outputs": [],
   "source": [
    "from vectara.types import GenerationParameters \n",
    "from vectara.utils import render_markdown\n",
    "from IPython.display import display, Markdown\n",
    "import json\n",
    "\n",
    "query = \"What is the Wager about?\"\n",
    "\n",
    "query_response = client.queries.search(corpus_key, query=query)\n",
    "display(Markdown(render_markdown(query, query_response)))"
   ]
  },
  {
   "cell_type": "markdown",
   "id": "a1fdb7314d09fbb0",
   "metadata": {
    "collapsed": false,
    "jupyter": {
     "outputs_hidden": false
    }
   },
   "source": [
    "## Advanced Single Corpus Query\n",
    "The following code performs a query against a single corpus using the advanced method which invokes [Advanced Single Corpus Query REST API](https://docs.vectara.com/docs/rest-api/query-corpus)."
   ]
  },
  {
   "cell_type": "code",
   "execution_count": null,
   "id": "45efc852225a3892",
   "metadata": {
    "ExecuteTime": {
     "end_time": "2024-09-19T00:07:05.861358Z",
     "start_time": "2024-09-19T00:07:01.210954Z"
    },
    "collapsed": false,
    "jupyter": {
     "outputs_hidden": false
    }
   },
   "outputs": [],
   "source": [
    "from vectara.queries import SearchCorpusParameters\n",
    "\n",
    "generation = GenerationParameters.parse_obj({\n",
    "    \"generation_preset_name\": \"vectara-summary-ext-v1.3.0\",\n",
    "    \"max_used_search_results\": 5,\n",
    "    \"max_response_characters\": 300,\n",
    "    \"response_language\": \"auto\"\n",
    "})\n",
    "\n",
    "search_corpus = SearchCorpusParameters.parse_obj({\n",
    "    \"lexical_interpolation\": 0.025,\n",
    "    \"semantics\": \"default\",\n",
    "    \"offset\": 0,\n",
    "    \"limit\": 10,\n",
    "    \"reranker\": {\n",
    "        \"type\": \"customer_reranker\",\n",
    "        \"reranker_id\": \"rnk_272725719\"\n",
    "    },\n",
    "    \"context_configuration\": {\n",
    "        \"characters_before\": 30,\n",
    "        \"characters_after\": 30,\n",
    "        \"start_tag\": \"<b>\",\n",
    "        \"end_tag\": \"</b>\"\n",
    "    },\n",
    "})\n",
    "\n",
    "query_response = client.queries.query_corpus(corpus_key, query=query, search=search_corpus, generation=generation)\n",
    "display(Markdown(render_markdown(query, query_response, show_search_results=True)))"
   ]
  },
  {
   "cell_type": "markdown",
   "id": "2b0423fa4c118ba5",
   "metadata": {
    "collapsed": false,
    "jupyter": {
     "outputs_hidden": false
    }
   },
   "source": [
    "# Multiple Corpora Query\n",
    "We will now show how you can invoke the multiple-corpora query for advanced use cases which invoke [Multiple Corpora Query REST API](https://docs.vectara.com/docs/rest-api/query).\n",
    "\n",
    "Please note the two similarly named types:\n",
    "* `vectara.queries.SearchCorpusParameters` - Used above to search a single corpus\n",
    "* `vectara.types.SearchCorporaParameters` - Used hear to search multiple corpora\n",
    "\n",
    "Also observe the slight difference in methods in `vectara.queries.QueryClient`:\n",
    "* `QueryClient#query_corpus` - Used above to search a single corpus\n",
    "* `QueryClient#query` - Used here to perform a multi-corpora query"
   ]
  },
  {
   "cell_type": "code",
   "execution_count": null,
   "id": "c01f0039cc88bef9",
   "metadata": {
    "ExecuteTime": {
     "end_time": "2024-09-19T00:08:09.805541Z",
     "start_time": "2024-09-19T00:08:06.404315Z"
    },
    "collapsed": false,
    "jupyter": {
     "outputs_hidden": false
    }
   },
   "outputs": [],
   "source": [
    "from vectara.types import SearchCorporaParameters\n",
    "\n",
    "search = SearchCorporaParameters.parse_obj({\n",
    "    \"corpora\": [{\"corpus_key\": corpus_key}] # This can be multiple corpora\n",
    "})\n",
    "\n",
    "\n",
    "query_response = client.queries.query(query=query, search=search, generation=generation)\n",
    "display(Markdown(render_markdown(query, query_response, show_search_results=True)))"
   ]
  }
 ],
 "metadata": {
  "kernelspec": {
   "display_name": "Python 3 (ipykernel)",
   "language": "python",
   "name": "python3"
  },
  "language_info": {
   "codemirror_mode": {
    "name": "ipython",
    "version": 3
   },
   "file_extension": ".py",
   "mimetype": "text/x-python",
   "name": "python",
   "nbconvert_exporter": "python",
   "pygments_lexer": "ipython3",
   "version": "3.12.1"
  }
 },
 "nbformat": 4,
 "nbformat_minor": 5
}
