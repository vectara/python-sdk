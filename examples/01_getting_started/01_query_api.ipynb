{
 "cells": [
  {
   "cell_type": "markdown",
   "source": [
    "# Getting Started - Lab 01 - Vectara Query API\n",
    "\n",
    "We'll now explore the Vectara Query API.\n",
    "\n",
    "This notebook will use our \"lab\" authentication profile, if you haven't set this up, please [Setup Authentication](./00_setup_authentication.ipynb)."
   ],
   "metadata": {
    "collapsed": false
   },
   "id": "911f035f8081e44a"
  },
  {
   "cell_type": "code",
   "outputs": [],
   "source": [
    "from vectara.factory import Factory\n",
    "from vectara.managers import CreateCorpusRequest\n",
    "import logging\n",
    "\n",
    "logging.basicConfig(format='%(asctime)s:%(name)-35s %(levelname)s:%(message)s', level=logging.INFO, datefmt='%H:%M:%S %z')\n",
    "logger = logging.getLogger(__name__)\n",
    "\n",
    "client = Factory(profile=\"lab\").build()\n"
   ],
   "metadata": {
    "collapsed": false
   },
   "id": "e8a811121b45a1f1",
   "execution_count": null
  },
  {
   "cell_type": "markdown",
   "source": [
    "## Setup Corpus and Data\n",
    "Before we can run queries, we setup a corpus and some data. We'll examine this in more depth in the following notebooks."
   ],
   "metadata": {
    "collapsed": false
   },
   "id": "c570f1491d387ffd"
  },
  {
   "cell_type": "code",
   "outputs": [],
   "source": [
    "request = CreateCorpusRequest(name=\"Getting Started - Query API\", key=\"01-getting-started-query-api\")\n",
    "response = client.lab_helper.create_lab_corpus(request)\n",
    "\n",
    "logger.info(f\"Our corpus key is [{response.key}]\")"
   ],
   "metadata": {
    "collapsed": false
   },
   "id": "3a835f493f311f57",
   "execution_count": null
  },
  {
   "cell_type": "code",
   "outputs": [],
   "source": [
    "from pathlib import Path\n",
    "from vectara.types import StructuredDocument\n",
    "\n",
    "path = Path(\"resources/shakespeare/taming_shrew.txt\")\n",
    "with open(path, \"r\", encoding=\"utf-8\") as f:\n",
    "    play_text = f.read()\n",
    "        \n",
    "request = StructuredDocument.parse_obj({\n",
    "   \"id\": \"my-doc\",\n",
    "   \"type\": \"structured\",\n",
    "   \"title\": \"Taming of the Shrew\",\n",
    "   \"description\": \"The Shakespeare play, 'the Taming of the Shrew'\",\n",
    "   \"sections\": [\n",
    "       {\n",
    "           \"text\": play_text # One big section which will be automatically chunked.\n",
    "       }\n",
    "   ]\n",
    "})\n",
    "\n",
    "client.documents.index(response.key, request=request)"
   ],
   "metadata": {
    "collapsed": false
   },
   "id": "5c8d61cc6c0d91c2",
   "execution_count": null
  },
  {
   "cell_type": "markdown",
   "source": [
    "# Query Types\n",
    "Vectara supports three query interfaces, in addition to chat which will be covered seperately.\n",
    "\n",
    "1. Simple Single Corpus Query\n",
    "2. Advanced Single Corpus Query\n",
    "3. Multiple Corpora Query \n",
    "\n",
    "We'll now examine how you can invoke each of these with the SDK.\n",
    "\n",
    "## Single Corpus Query\n",
    "The following code performs a query against a single corpus using the convenience method which invokes [Simple Single Corpus Query REST API](https://docs.vectara.com/docs/rest-api/search-corpus)."
   ],
   "metadata": {
    "collapsed": false
   },
   "id": "4fe7b384e8192f95"
  },
  {
   "cell_type": "code",
   "outputs": [],
   "source": [
    "import json\n",
    "\n",
    "query = \"What is the Wager in the play, 'The Taming of the Shrew'?\"\n",
    "\n",
    "query_response = client.queries.search(response.key, query=\"query\")\n",
    "logger.info(json.dumps(query_response.model_dump(), indent=4))"
   ],
   "metadata": {
    "collapsed": false
   },
   "id": "fc65736b2cae5c4a",
   "execution_count": null
  },
  {
   "cell_type": "markdown",
   "source": [
    "## Advanced Single Corpus Query\n",
    "The following code performs a query against a single corpus using the advanced method which invokes [Advanced Single Corpus Query REST API](https://docs.vectara.com/docs/rest-api/query-corpus)."
   ],
   "metadata": {
    "collapsed": false
   },
   "id": "a1fdb7314d09fbb0"
  },
  {
   "cell_type": "code",
   "outputs": [],
   "source": [
    "from vectara.queries import SearchCorpusParameters\n",
    "from vectara.types import GenerationParameters \n",
    "\n",
    "generation = GenerationParameters.parse_obj({\n",
    "    \n",
    "})\n",
    "\n",
    "search_corpus = SearchCorpusParameters.parse_obj({\n",
    "    # TODO Add reranker from SearchParameters#SearchReranker\n",
    "    # TODO Add context_configuration from SearchParameters#ContextConfiguration\n",
    "})\n",
    "\n",
    "query_response = client.queries.query_corpus(response.key, query=query, search=search_corpus, generation=generation)\n",
    "logger.info(query_response.summary)"
   ],
   "metadata": {
    "collapsed": false
   },
   "id": "45efc852225a3892",
   "execution_count": null
  },
  {
   "cell_type": "markdown",
   "source": [
    "# Multiple Corpora Query\n",
    "We will now show how you can invoke the multiple-corpora query for advanced use cases which invoke [Multiple Corpora Query REST API](https://docs.vectara.com/docs/rest-api/query).\n",
    "\n",
    "Please note the two similarly named types:\n",
    "* `vectara.queries.SearchCorpusParameters` - Used above to search a single corpus\n",
    "* `vectara.types.SearchCorporaParameters` - Used hear to search multiple corpora\n",
    "\n",
    "Also observe the slight difference in methods in `vectara.queries.QueryClient`:\n",
    "* `QueryClient#query_corpus` - Used above to search a single corpus\n",
    "* `QueryClient#query` - Used here to perform a multi-corpora query"
   ],
   "metadata": {
    "collapsed": false
   },
   "id": "2b0423fa4c118ba5"
  },
  {
   "cell_type": "code",
   "outputs": [],
   "source": [
    "from vectara.types import SearchCorporaParameters\n",
    "\n",
    "search = SearchCorporaParameters.parse_obj({\n",
    "    \"corpora\": [{\"corpus_key\": response.key}]\n",
    "})\n",
    "\n",
    "\n",
    "query_response = client.queries.query(query=query, search=search, generation=generation)\n",
    "logger.info(query_response.summary)"
   ],
   "metadata": {
    "collapsed": false
   },
   "id": "c01f0039cc88bef9",
   "execution_count": null
  }
 ],
 "metadata": {
  "kernelspec": {
   "display_name": "Python 3",
   "language": "python",
   "name": "python3"
  },
  "language_info": {
   "codemirror_mode": {
    "name": "ipython",
    "version": 2
   },
   "file_extension": ".py",
   "mimetype": "text/x-python",
   "name": "python",
   "nbconvert_exporter": "python",
   "pygments_lexer": "ipython2",
   "version": "2.7.6"
  }
 },
 "nbformat": 4,
 "nbformat_minor": 5
}
