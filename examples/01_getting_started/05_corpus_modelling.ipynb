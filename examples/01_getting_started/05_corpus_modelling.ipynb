{
 "cells": [
  {
   "cell_type": "markdown",
   "source": [
    "# Corpus Creation\n",
    "Up until now, we have worked with a corpus we create during our lab setup. We'll now take a look at the corpus concept.\n",
    "\n",
    "For a greenfields use case, the first step when working with Vectara is to create your corpus. You can think of a corpus as a logical container for your documents.\n",
    "\n",
    "When users first see Vectara, they often put a few documents in the system and run some basic queries, but much of the power of Vectara is only unlocked when\n",
    "combined with two advanced features Vectara brings:\n",
    "\n",
    "* Filter Attributes: metadata on documents and the document parts within them; and\n",
    "* Custom Dimensions: Numerical attributes on a document which allow for boosting.\n",
    "\n",
    "TBC - Add diagram of Account, Document and Document-Part.\n",
    "\n"
   ],
   "metadata": {
    "collapsed": false
   },
   "id": "2901d0e5470ca4e3"
  },
  {
   "cell_type": "code",
   "outputs": [],
   "source": [
    "from vectara.factory import Factory\n",
    "\n",
    "client = Factory(profile=\"lab\").build()\n"
   ],
   "metadata": {
    "collapsed": false
   },
   "id": "ce833f312d2d67b3"
  }
 ],
 "metadata": {
  "kernelspec": {
   "display_name": "Python 3",
   "language": "python",
   "name": "python3"
  },
  "language_info": {
   "codemirror_mode": {
    "name": "ipython",
    "version": 2
   },
   "file_extension": ".py",
   "mimetype": "text/x-python",
   "name": "python",
   "nbconvert_exporter": "python",
   "pygments_lexer": "ipython2",
   "version": "2.7.6"
  }
 },
 "nbformat": 4,
 "nbformat_minor": 5
}
