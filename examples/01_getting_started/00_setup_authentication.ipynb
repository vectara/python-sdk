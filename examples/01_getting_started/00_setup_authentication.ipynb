{
 "cells": [
  {
   "cell_type": "markdown",
   "id": "8bc5bab7ae4367e0",
   "metadata": {
    "collapsed": false,
    "jupyter": {
     "outputs_hidden": false
    }
   },
   "source": [
    "# Setup Authentication\n",
    "\n",
    "We'll now setup authentication for the labs. This will store your Vectara authentication\n",
    "detail in a configuration YAML file called .vec_auth.yaml in your home directory. The details\n",
    "here will be stored within this in a profile called \"lab\". Using profiles allows you to reference\n",
    "multiple authentications to Vectara Accounts by name which is useful when dealing with different\n",
    "environments.\n",
    "\n",
    "If you have already have a Vectara profile called \"lab\", you can skip this task.\n",
    "\n",
    "You will need either an API Key or an OAuth2 credential:\n",
    "\n",
    "* API Key - this will need to be your personal API Key as the labs use multiple APIs beyond index and query.\n",
    "* OAuth2 - an RBAC key with corpus admin should be sufficient.\n",
    "\n"
   ]
  },
  {
   "cell_type": "code",
   "execution_count": null,
   "id": "00e48a43-40dc-4098-9d8a-1fcbcdaefdbb",
   "metadata": {},
   "outputs": [],
   "source": [
    "%pip install vectara"
   ]
  },
  {
   "cell_type": "code",
   "execution_count": null,
   "id": "db1b7b94b96cd453",
   "metadata": {
    "ExecuteTime": {
     "end_time": "2024-09-19T03:57:33.622901Z",
     "start_time": "2024-09-19T03:57:29.731394Z"
    },
    "collapsed": false,
    "jupyter": {
     "outputs_hidden": false
    }
   },
   "outputs": [],
   "source": [
    "from getting_started_util import GettingStartedUtil\n",
    "from vectara.utils import LabHelper\n",
    "\n",
    "logger = GettingStartedUtil().logger  # Helper class to remove distracting code (logging setup)\n",
    "LabHelper.setup_authentication()\n"
   ]
  },
  {
   "cell_type": "markdown",
   "id": "cda547aaf0e46fc2",
   "metadata": {
    "collapsed": false,
    "jupyter": {
     "outputs_hidden": false
    }
   },
   "source": [
    "# Credential Test\n",
    "We'll now use our Factory method to create our client with the credentials entered."
   ]
  },
  {
   "cell_type": "code",
   "execution_count": null,
   "id": "29969af303331525",
   "metadata": {
    "ExecuteTime": {
     "end_time": "2024-09-19T01:36:45.335883Z",
     "start_time": "2024-09-19T01:36:02.080709Z"
    },
    "collapsed": false,
    "jupyter": {
     "outputs_hidden": false
    }
   },
   "outputs": [],
   "source": [
    "from vectara.factory import Factory\n",
    "\n",
    "client = Factory(profile=\"lab\").build()\n",
    "manager = client.corpus_manager\n",
    "# The manager wraps the SyncPager from the SDK, this insulates client from the yield syntax (complexity)\n",
    "# Some users may want the generator function instead which is fine.\n",
    "for corpus in manager.find_corpora_with_filter(\"test\", limit=10):\n",
    "    logger.info(f\"Found corpus with name [{corpus.name}] and key [{corpus.key}]\")"
   ]
  }
 ],
 "metadata": {
  "kernelspec": {
   "display_name": "Python 3 (ipykernel)",
   "language": "python",
   "name": "python3"
  },
  "language_info": {
   "codemirror_mode": {
    "name": "ipython",
    "version": 3
   },
   "file_extension": ".py",
   "mimetype": "text/x-python",
   "name": "python",
   "nbconvert_exporter": "python",
   "pygments_lexer": "ipython3",
   "version": "3.12.1"
  }
 },
 "nbformat": 4,
 "nbformat_minor": 5
}
