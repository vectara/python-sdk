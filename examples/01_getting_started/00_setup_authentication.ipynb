{
 "cells": [
  {
   "cell_type": "markdown",
   "source": [
    "# Setup Authentication\n",
    "\n",
    "We'll now setup authentication for the labs. This will store your Vectara authentication\n",
    "detail in a configuration YAML file called .vec_auth.yaml in your home directory. The details\n",
    "here will be stored within this in a profile called \"lab\". Using profiles allows you to reference\n",
    "multiple authentications to Vectara Accounts by name which is useful when dealing with different\n",
    "environments.\n",
    "\n",
    "If you have already have a Vectara profile called \"lab\", you can skip this task.\n",
    "\n",
    "You will need either an API Key or an OAuth2 credential:\n",
    "\n",
    "* API Key - this will need to be your personal API Key as the labs use multiple APIs beyond index and query.\n",
    "* OAuth2 - an RBAC key with corpus admin should be sufficient.\n",
    "\n"
   ],
   "metadata": {
    "collapsed": false
   },
   "id": "8bc5bab7ae4367e0"
  },
  {
   "cell_type": "code",
   "outputs": [
    {
     "name": "stderr",
     "output_type": "stream",
     "text": [
      "11:09:09 +1000:HomeConfigLoader                    INFO:Loading configuration from users home directory [C:\\Users\\david]\n",
      "11:09:09 +1000:HomeConfigLoader                    INFO:Loading specified profile [lab]\n",
      "11:09:09 +1000:LabHelper                           INFO:We already have a configuration for [lab]\n",
      "11:09:09 +1000:LabHelper                           INFO:If you proceed, THIS WILL BE OVERWRITTEN!!\n",
      "11:13:24 +1000:LabHelper                           INFO:Saving configuration for profile [lab]\n",
      "11:13:24 +1000:HomeConfigLoader                    INFO:Loading configuration from users home directory [C:\\Users\\david]\n"
     ]
    }
   ],
   "source": [
    "from vectara.utils import LabHelper\n",
    "import logging\n",
    "\n",
    "logging.basicConfig(format='%(asctime)s:%(name)-35s %(levelname)s:%(message)s', level=logging.INFO, datefmt='%H:%M:%S %z')\n",
    "logger = logging.getLogger(__name__)\n",
    "\n",
    "helper = LabHelper()\n",
    "helper.setup_authentication()\n"
   ],
   "metadata": {
    "collapsed": false,
    "ExecuteTime": {
     "end_time": "2024-09-10T01:13:24.787343Z",
     "start_time": "2024-09-10T01:09:09.017188Z"
    }
   },
   "id": "db1b7b94b96cd453",
   "execution_count": 2
  },
  {
   "cell_type": "markdown",
   "source": [
    "# Credential Test\n",
    "We'll now use our Factory method to create our client with the credentials entered."
   ],
   "metadata": {
    "collapsed": false
   },
   "id": "cda547aaf0e46fc2"
  },
  {
   "cell_type": "code",
   "outputs": [
    {
     "name": "stderr",
     "output_type": "stream",
     "text": [
      "11:13:30 +1000:Factory                             INFO:initializing builder\n",
      "11:13:30 +1000:Factory                             INFO:Factory will load configuration from home directory\n",
      "11:13:30 +1000:HomeConfigLoader                    INFO:Loading configuration from users home directory [C:\\Users\\david]\n",
      "11:13:30 +1000:HomeConfigLoader                    INFO:Loading specified profile [lab]\n",
      "11:13:30 +1000:root                                INFO:We are processing authentication type [ApiKey]\n",
      "11:13:35 +1000:httpx                               INFO:HTTP Request: GET https://api.vectara.io/v2/corpora?filter= \"HTTP/1.1 200 OK\"\n",
      "11:13:39 +1000:httpx                               INFO:HTTP Request: GET https://api.vectara.io/v2/corpora?filter=&page_key=OQs7a4lRSjMXfxRSURwo6_9HuWjpUlUVZHC1aRs6LWMVnngvpKWD0XzGR7BsiS3XvPzxr5pl6PY2cMIQDhpLzbLMSwwbgaTt4zM5c3Vfjg%3D%3D \"HTTP/1.1 200 OK\"\n",
      "11:13:43 +1000:httpx                               INFO:HTTP Request: GET https://api.vectara.io/v2/corpora?filter=&page_key=ckKTFgUwERXbI9WuBOCmkHGd8hQ_bO3EeeESlXGWsN35YWqVcDaIiDBuBMv-saH4KyBoG7NKOfdG4nwMairxwxRD6AeNi4szS3DjpmPiwA%3D%3D \"HTTP/1.1 200 OK\"\n",
      "11:13:46 +1000:httpx                               INFO:HTTP Request: GET https://api.vectara.io/v2/corpora?filter=&page_key=WclxogmxLdFjaEQ2u4hDeJy7MRRH6QaV3CCq0HFoNSvnYSnUmn8oQtPuxmZUHqLnHAXT_1NehcV-HY97DDL9jxVjVLM3I92hvUUYYrPLLw%3D%3D \"HTTP/1.1 200 OK\"\n",
      "11:13:50 +1000:httpx                               INFO:HTTP Request: GET https://api.vectara.io/v2/corpora?filter=&page_key=pj1obyMl2mKjHkTXZlW6yfgpeTI_L-U7yalTjVyUE_vOr9ql3wwNt8gmKIvrfAllQWxKyHKCVbdv-v-HqJJfNhf32P7IFwY3ztt6i5PYmA%3D%3D \"HTTP/1.1 200 OK\"\n",
      "11:13:54 +1000:httpx                               INFO:HTTP Request: GET https://api.vectara.io/v2/corpora?filter=&page_key=I5S0sdQDvkEW-Zg3WgN-fKfgHiGWecm4SNo-6VwyuXSULitPW1Fyz1rPp_jusoXX9snZRWU13UF4QCKtnv96uD2auoKuoCzZ4Qa5_nqKcg%3D%3D \"HTTP/1.1 200 OK\"\n",
      "11:13:58 +1000:httpx                               INFO:HTTP Request: GET https://api.vectara.io/v2/corpora?filter=&page_key=g6aEaRSQ2bt5_5GhFnUXxuvt04Ka3AwvP4PItu8E9gKA2SELowroALQi_PdZD5IX9Afeh-bPN2OAn0J_vrKyTop3HbxJuKbxAJAdhSogXQ%3D%3D \"HTTP/1.1 200 OK\"\n",
      "11:14:02 +1000:httpx                               INFO:HTTP Request: GET https://api.vectara.io/v2/corpora?filter=&page_key=HxQ3WLFzP4ESRR3qPdGjL_fVmFDPoPcfmMQzBP7PBDtnm0dDKTDb16WJGUchAUeJXLjaGeJ8gcpqO-GTwj9tQF5cq5K27jjSYBJ1IkF9WQ%3D%3D \"HTTP/1.1 200 OK\"\n",
      "11:14:08 +1000:httpx                               INFO:HTTP Request: GET https://api.vectara.io/v2/corpora?filter=&page_key=oJqctQU3DGsaeHgMM8fqbcOYBfbh7VMRI-IY3OLIeAzMtzRhzK8tVkffuPpBsuJwWkXeh51ywo2ifsDOa9apb63-xTbX7adzNaP1NF0FjQ%3D%3D \"HTTP/1.1 200 OK\"\n",
      "11:14:11 +1000:httpx                               INFO:HTTP Request: GET https://api.vectara.io/v2/corpora?filter=&page_key=Wazo1-Wa0uOD72nqyctxNTnUpzC7zv8L_iGUVuSAWv8meUXQql5Nn4Bhp-YDR2QcsayCwXKtaU9_BznSmurXIL_LZFa7eb979SZwDoyEOA%3D%3D \"HTTP/1.1 200 OK\"\n",
      "11:14:15 +1000:httpx                               INFO:HTTP Request: GET https://api.vectara.io/v2/corpora?filter=&page_key=uRYWLNksAPL2QW1fyt78I-dcmST8qe8b2FaXeLgWldrwjHDo4tt3PUwTgccnhChd9XfhbOuPgMIqu8urzcqb5sCG6DH1O57o_Tp_hxtCUA%3D%3D \"HTTP/1.1 200 OK\"\n",
      "11:14:19 +1000:httpx                               INFO:HTTP Request: GET https://api.vectara.io/v2/corpora?filter=&page_key=bOIj2Nts74shAbyK2k8fVAXMCgOXmUDGwLLlOBXpEJM63km48-rrKAWSoKlPL0-5ylPS_FSH1EJfc-MeFWXu6fN6KK08DN1GSJuSLX_CWA%3D%3D \"HTTP/1.1 200 OK\"\n",
      "11:14:20 +1000:httpx                               INFO:HTTP Request: GET https://api.vectara.io/v2/corpora?filter=&page_key=kRD3ikfr8vmDMApQyz4nYNiVTmYLV7yGn2DlhDoHzMc5M56xml4DjnUeEyvLADh8kHl_b_WZpoBnEwUV0eX7kMna2WP4tYYldkuEiwiBQA%3D%3D \"HTTP/1.1 200 OK\"\n",
      "11:14:20 +1000:CorpusManager                       INFO:Checking corpus with name [vectara-docs]\n",
      "11:14:21 +1000:CorpusManager                       INFO:Checking corpus with name [twitter-manager-test]\n",
      "11:14:21 +1000:CorpusManager                       INFO:Checking corpus with name [MCIT Publications]\n",
      "11:14:21 +1000:CorpusManager                       INFO:Checking corpus with name [Indian MCIT]\n",
      "11:14:21 +1000:CorpusManager                       INFO:Checking corpus with name [Thought Provoking McKinsey]\n",
      "11:14:21 +1000:CorpusManager                       INFO:Checking corpus with name [Electrical Safety]\n",
      "11:14:21 +1000:CorpusManager                       INFO:Checking corpus with name [NIDLP]\n",
      "11:14:21 +1000:CorpusManager                       INFO:Checking corpus with name [daleel-investor-overview]\n",
      "11:14:21 +1000:CorpusManager                       INFO:Checking corpus with name [david-sc-website]\n",
      "11:14:21 +1000:CorpusManager                       INFO:Checking corpus with name [SABIC]\n",
      "11:14:21 +1000:CorpusManager                       INFO:Checking corpus with name [Health]\n",
      "11:14:21 +1000:CorpusManager                       INFO:Checking corpus with name [company_names_sections]\n",
      "11:14:21 +1000:CorpusManager                       INFO:Checking corpus with name [company_names_document]\n",
      "11:14:21 +1000:CorpusManager                       INFO:Checking corpus with name [company_names_singular]\n",
      "11:14:21 +1000:CorpusManager                       INFO:Checking corpus with name [TradieCart]\n",
      "11:14:21 +1000:CorpusManager                       INFO:Checking corpus with name [Complex Metadata Example]\n",
      "11:14:21 +1000:CorpusManager                       INFO:Checking corpus with name [Complex Metadata Example 2]\n",
      "11:14:21 +1000:CorpusManager                       INFO:Checking corpus with name [MAADEN MSHEM]\n",
      "11:14:21 +1000:CorpusManager                       INFO:Checking corpus with name [Maaden - EHSS Incidents]\n",
      "11:14:21 +1000:CorpusManager                       INFO:Checking corpus with name [ZC]\n",
      "11:14:21 +1000:CorpusManager                       INFO:Checking corpus with name [Nakheel]\n",
      "11:14:21 +1000:CorpusManager                       INFO:Checking corpus with name [daleel-investor-journey]\n",
      "11:14:21 +1000:CorpusManager                       INFO:Checking corpus with name [Caxton Legal]\n",
      "11:14:21 +1000:CorpusManager                       INFO:Checking corpus with name [company_names_real]\n",
      "11:14:21 +1000:CorpusManager                       INFO:Checking corpus with name [Voktech-OCR]\n",
      "11:14:21 +1000:CorpusManager                       INFO:Checking corpus with name [Slack Post]\n",
      "11:14:21 +1000:CorpusManager                       INFO:Checking corpus with name [rx-global-online-retailer]\n",
      "11:14:21 +1000:CorpusManager                       INFO:Checking corpus with name [demonstrate-url]\n",
      "11:14:21 +1000:CorpusManager                       INFO:Checking corpus with name [david-ksa-sami-website]\n",
      "11:14:21 +1000:CorpusManager                       INFO:Checking corpus with name [ARO Drilling]\n",
      "11:14:21 +1000:CorpusManager                       INFO:Checking corpus with name [Pacemakers]\n",
      "11:14:21 +1000:CorpusManager                       INFO:Checking corpus with name [Construction-Questions]\n",
      "11:14:21 +1000:CorpusManager                       INFO:Checking corpus with name [StrongRoom - StrongER]\n",
      "11:14:21 +1000:CorpusManager                       INFO:Checking corpus with name [financial comparison]\n",
      "11:14:21 +1000:CorpusManager                       INFO:Checking corpus with name [Created from Typescript]\n",
      "11:14:21 +1000:CorpusManager                       INFO:Checking corpus with name [Created from Typescript]\n",
      "11:14:21 +1000:CorpusManager                       INFO:Checking corpus with name [Created from Typescript]\n",
      "11:14:21 +1000:CorpusManager                       INFO:Checking corpus with name [Created from Typescript]\n",
      "11:14:21 +1000:CorpusManager                       INFO:Checking corpus with name [test_car_corpus]\n",
      "11:14:21 +1000:CorpusManager                       INFO:Checking corpus with name [test_car_corpus]\n",
      "11:14:21 +1000:CorpusManager                       INFO:Checking corpus with name [test_car_corpus]\n",
      "11:14:21 +1000:CorpusManager                       INFO:Checking corpus with name [test_car_corpus]\n",
      "11:14:21 +1000:CorpusManager                       INFO:Checking corpus with name [test_car_corpus]\n",
      "11:14:21 +1000:CorpusManager                       INFO:Checking corpus with name [test_car_corpus]\n",
      "11:14:21 +1000:CorpusManager                       INFO:Checking corpus with name [test_car_corpus]\n",
      "11:14:21 +1000:CorpusManager                       INFO:Checking corpus with name [CorpusFilterAttributesIntTest]\n",
      "11:14:21 +1000:CorpusManager                       INFO:Checking corpus with name [david.FilterAttributeTest.testWithFilterAttribute]\n",
      "11:14:21 +1000:CorpusManager                       INFO:Checking corpus with name [test_car_corpus]\n",
      "11:14:21 +1000:CorpusManager                       INFO:Checking corpus with name [test_car_corpus]\n",
      "11:14:21 +1000:CorpusManager                       INFO:Checking corpus with name [test_car_corpus]\n",
      "11:14:21 +1000:CorpusManager                       INFO:Checking corpus with name [test_car_corpus]\n",
      "11:14:21 +1000:CorpusManager                       INFO:Checking corpus with name [test_car_corpus]\n",
      "11:14:21 +1000:CorpusManager                       INFO:Checking corpus with name [david.ApiKeyTest.test_api_key_deletion]\n",
      "11:14:21 +1000:CorpusManager                       INFO:Checking corpus with name [david.ApiKeyTest.test_list_api_keys]\n",
      "11:14:21 +1000:CorpusManager                       INFO:Checking corpus with name [test_car_corpus]\n",
      "11:14:21 +1000:CorpusManager                       INFO:Checking corpus with name [david.AdminServiceIntTest.testListCorpora]\n",
      "11:14:21 +1000:CorpusManager                       INFO:Checking corpus with name [david.AdminServiceIntTest.testListDocuments]\n",
      "11:14:21 +1000:CorpusManager                       INFO:Checking corpus with name [david.AdminServiceIntTest.test_corpus_builder]\n",
      "11:14:21 +1000:CorpusManager                       INFO:Checking corpus with name [test_car_corpus]\n",
      "11:14:21 +1000:CorpusManager                       INFO:Checking corpus with name [david.ApiKeyTest.test_pass]\n",
      "11:14:21 +1000:CorpusManager                       INFO:Checking corpus with name [david.TestArabic.test_arabic_with_summary_gpt3_5]\n",
      "11:14:21 +1000:CorpusManager                       INFO:Checking corpus with name [david.TestArabic.test_arabic_with_summary_gpt4]\n",
      "11:14:21 +1000:CorpusManager                       INFO:Checking corpus with name [david.TestArabic.test_arabic_with_summary_gpt4_res]\n",
      "11:14:21 +1000:CorpusManager                       INFO:Checking corpus with name [david.TestArabic.test_no_summary]\n",
      "11:14:21 +1000:CorpusManager                       INFO:Checking corpus with name [david.BasicQuery.test_basic_summary]\n",
      "11:14:21 +1000:CorpusManager                       INFO:Checking corpus with name [david.BasicQuery.test_run_basic_query]\n",
      "11:14:21 +1000:CorpusManager                       INFO:Checking corpus with name [david.BasicQuery.test_documents_info]\n",
      "11:14:21 +1000:CorpusManager                       INFO:Checking corpus with name [david.FilterAttributeTest.test_filter_attr]\n",
      "11:14:21 +1000:CorpusManager                       INFO:Checking corpus with name [david.FilterAttributeTest.test_with_filter_attribu]\n",
      "11:14:21 +1000:CorpusManager                       INFO:Checking corpus with name [david.IndexServiceIntegrationTest.testUpload]\n",
      "11:14:21 +1000:CorpusManager                       INFO:Checking corpus with name [david.ApiKeyTest.test_api_key_disable]\n",
      "11:14:21 +1000:CorpusManager                       INFO:Checking corpus with name [prompt-guardrails]\n",
      "11:14:21 +1000:CorpusManager                       INFO:Checking corpus with name [C and F]\n",
      "11:14:21 +1000:CorpusManager                       INFO:Checking corpus with name [meetup-general]\n",
      "11:14:21 +1000:CorpusManager                       INFO:Checking corpus with name [meetup-presentations]\n",
      "11:14:21 +1000:CorpusManager                       INFO:Checking corpus with name [meetup-actions]\n",
      "11:14:21 +1000:CorpusManager                       INFO:Checking corpus with name [Reviva]\n",
      "11:14:21 +1000:CorpusManager                       INFO:Checking corpus with name [J-ML]\n",
      "11:14:21 +1000:CorpusManager                       INFO:Checking corpus with name [verified-corpus]\n",
      "11:14:21 +1000:CorpusManager                       INFO:Checking corpus with name [AICamp Basic]\n",
      "11:14:21 +1000:CorpusManager                       INFO:Checking corpus with name [HR Regs]\n",
      "11:14:21 +1000:CorpusManager                       INFO:Checking corpus with name [text-list-attr]\n",
      "11:14:21 +1000:CorpusManager                       INFO:Checking corpus with name [test-corpus-manager]\n",
      "11:14:21 +1000:CorpusManager                       INFO:Checking corpus with name [Withstand Lawyers Chatbot]\n",
      "11:14:21 +1000:CorpusManager                       INFO:Checking corpus with name [pf-analytic]\n",
      "11:14:21 +1000:CorpusManager                       INFO:Checking corpus with name [use-cases]\n",
      "11:14:21 +1000:CorpusManager                       INFO:Checking corpus with name [regulation-diff]\n",
      "11:14:21 +1000:CorpusManager                       INFO:Checking corpus with name [regulation-diff-raw]\n",
      "11:14:21 +1000:CorpusManager                       INFO:Checking corpus with name [regulation-diff-bronze]\n",
      "11:14:21 +1000:CorpusManager                       INFO:Checking corpus with name [HM]\n",
      "11:14:21 +1000:CorpusManager                       INFO:Checking corpus with name [Core Document Test]\n",
      "11:14:21 +1000:CorpusManager                       INFO:Checking corpus with name [pf-kb-crawl]\n",
      "11:14:21 +1000:CorpusManager                       INFO:Checking corpus with name [Sour Gas]\n",
      "11:14:21 +1000:CorpusManager                       INFO:Checking corpus with name [test txt]\n",
      "11:14:21 +1000:CorpusManager                       INFO:Checking corpus with name [demo-c]\n",
      "11:14:21 +1000:CorpusManager                       INFO:Checking corpus with name [Test Index Corpus]\n",
      "11:14:21 +1000:CorpusManager                       INFO:Checking corpus with name [Product Info 2]\n",
      "11:14:21 +1000:CorpusManager                       INFO:Checking corpus with name [Test-DocumentManager]\n",
      "11:14:21 +1000:CorpusManager                       INFO:Checking corpus with name [PF Data Guru]\n",
      "11:14:21 +1000:CorpusManager                       INFO:Checking corpus with name [pf-properties]\n",
      "11:14:21 +1000:CorpusManager                       INFO:Checking corpus with name [pf-info-json]\n",
      "11:14:21 +1000:CorpusManager                       INFO:Checking corpus with name [B-Support Docs]\n",
      "11:14:21 +1000:CorpusManager                       INFO:Checking corpus with name [toyota-annual-report]\n",
      "11:14:21 +1000:CorpusManager                       INFO:Checking corpus with name [AICamp Events]\n",
      "11:14:21 +1000:CorpusManager                       INFO:Checking corpus with name [AICamp Sessions]\n",
      "11:14:21 +1000:CorpusManager                       INFO:Checking corpus with name [pov-corpus]\n",
      "11:14:21 +1000:CorpusManager                       INFO:Checking corpus with name [ic-upload]\n",
      "11:14:21 +1000:CorpusManager                       INFO:Checking corpus with name [cs-test]\n",
      "11:14:21 +1000:CorpusManager                       INFO:Checking corpus with name [ib-english]\n",
      "11:14:21 +1000:CorpusManager                       INFO:Checking corpus with name [test-list-bug]\n",
      "11:14:21 +1000:CorpusManager                       INFO:Checking corpus with name [ib-turkish]\n",
      "11:14:21 +1000:CorpusManager                       INFO:Checking corpus with name [medical]\n",
      "11:14:21 +1000:CorpusManager                       INFO:Checking corpus with name [WL - Product Information]\n",
      "11:14:21 +1000:CorpusManager                       INFO:Checking corpus with name [test-list-bug-20240829]\n",
      "11:14:21 +1000:CorpusManager                       INFO:Checking corpus with name [li-custom-prompt]\n",
      "11:14:21 +1000:CorpusManager                       INFO:Checking corpus with name [hkjc-test]\n",
      "11:14:21 +1000:CorpusManager                       INFO:Checking corpus with name [test-sdk-corpus]\n",
      "11:14:21 +1000:CorpusManager                       INFO:Checking corpus with name [test-404]\n",
      "11:14:21 +1000:CorpusManager                       INFO:Checking corpus with name [test-list-bug-20240829a]\n",
      "11:14:21 +1000:CorpusManager                       INFO:Checking corpus with name [test-list-bug-20240905b]\n",
      "11:14:21 +1000:CorpusManager                       INFO:Checking corpus with name [david - filter-attributes]\n",
      "11:14:21 +1000:CorpusManager                       INFO:Checking corpus with name [hkjc-test-pdfs]\n",
      "11:14:21 +1000:CorpusManager                       INFO:Checking corpus with name [motherboards]\n"
     ]
    }
   ],
   "source": [
    "from vectara.factory import Factory\n",
    "\n",
    "client = Factory(profile=\"lab\").build()\n",
    "manager = client.corpus_manager\n",
    "\n",
    "for corpus in manager.find_corpora_by_name(\"\"):\n",
    "    logger.info(f\"Found corpus with name [{corpus.name}] and key [{corpus.key}]\")"
   ],
   "metadata": {
    "collapsed": false,
    "ExecuteTime": {
     "end_time": "2024-09-10T01:14:21.082029Z",
     "start_time": "2024-09-10T01:13:30.487137Z"
    }
   },
   "id": "29969af303331525",
   "execution_count": 3
  }
 ],
 "metadata": {
  "kernelspec": {
   "display_name": "Python 3",
   "language": "python",
   "name": "python3"
  },
  "language_info": {
   "codemirror_mode": {
    "name": "ipython",
    "version": 2
   },
   "file_extension": ".py",
   "mimetype": "text/x-python",
   "name": "python",
   "nbconvert_exporter": "python",
   "pygments_lexer": "ipython2",
   "version": "2.7.6"
  }
 },
 "nbformat": 4,
 "nbformat_minor": 5
}
