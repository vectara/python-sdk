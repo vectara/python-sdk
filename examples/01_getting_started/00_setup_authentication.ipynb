{
 "cells": [
  {
   "cell_type": "markdown",
   "source": [
    "# Setup Authentication\n",
    "\n",
    "We'll now setup authentication for the labs. This will store your Vectara authentication\n",
    "detail in a configuration YAML file called .vec_auth.yaml in your home directory. The details\n",
    "here will be stored within this in a profile called \"lab\". Using profiles allows you to reference\n",
    "multiple authentications to Vectara Accounts by name which is useful when dealing with different\n",
    "environments.\n",
    "\n",
    "If you have already have a Vectara profile called \"lab\", you can skip this task.\n",
    "\n",
    "You will need either an API Key or an OAuth2 credential:\n",
    "\n",
    "* API Key - this will need to be your personal API Key as the labs use multiple APIs beyond index and query.\n",
    "* OAuth2 - an RBAC key with corpus admin should be sufficient.\n",
    "\n"
   ],
   "metadata": {
    "collapsed": false
   },
   "id": "8bc5bab7ae4367e0"
  },
  {
   "cell_type": "code",
   "outputs": [],
   "source": [
    "from vectara.utils import LabHelper\n",
    "import logging\n",
    "\n",
    "logging.basicConfig(format='%(asctime)s:%(name)-35s %(levelname)s:%(message)s', level=logging.INFO, datefmt='%H:%M:%S %z')\n",
    "logger = logging.getLogger(__name__)\n",
    "\n",
    "helper = LabHelper()\n",
    "helper.setup_authentication()\n"
   ],
   "metadata": {
    "collapsed": false
   },
   "id": "db1b7b94b96cd453",
   "execution_count": null
  },
  {
   "cell_type": "markdown",
   "source": [
    "# Credential Test\n",
    "We'll now use our Factory method to create our client with the credentials entered."
   ],
   "metadata": {
    "collapsed": false
   },
   "id": "cda547aaf0e46fc2"
  },
  {
   "cell_type": "code",
   "outputs": [],
   "source": [
    "from vectara.factory import Factory\n",
    "\n",
    "client = Factory(profile=\"lab\").build()\n",
    "manager = client.corpus_manager\n",
    "\n",
    "for corpus in manager.find_corpora_by_name(\"\"):\n",
    "    logger.info(f\"Found corpus with name [{corpus.name}] and key [{corpus.key}]\")"
   ],
   "metadata": {
    "collapsed": false
   },
   "id": "29969af303331525",
   "execution_count": null
  }
 ],
 "metadata": {
  "kernelspec": {
   "display_name": "Python 3",
   "language": "python",
   "name": "python3"
  },
  "language_info": {
   "codemirror_mode": {
    "name": "ipython",
    "version": 2
   },
   "file_extension": ".py",
   "mimetype": "text/x-python",
   "name": "python",
   "nbconvert_exporter": "python",
   "pygments_lexer": "ipython2",
   "version": "2.7.6"
  }
 },
 "nbformat": 4,
 "nbformat_minor": 5
}
