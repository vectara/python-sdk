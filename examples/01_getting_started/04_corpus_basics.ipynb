{
 "cells": [
  {
   "cell_type": "markdown",
   "id": "2901d0e5470ca4e3",
   "metadata": {
    "collapsed": false,
    "jupyter": {
     "outputs_hidden": false
    }
   },
   "source": [
    "# Corpus Creation\n",
    "As Carl Sagan once said, \"If you wish to make an apple pie from scratch, you must first invent the universe\". Up until now, we have worked with a corpus we create during our lab setup. \n",
    "This is akin to the Universe from Carl Sagan's quote. We'll now take a look at the **Create a Corpus** API call and corpus concept.\n",
    "\n",
    "You can find full documentation of this method here:\n",
    "* Create a Corpus: https://docs.vectara.com/docs/rest-api/create-corpus\n",
    "* Retrieve metadata about a Corpus: https://docs.vectara.com/docs/rest-api/get-corpus\n",
    "* Delete a Corpus and all its data: https://docs.vectara.com/docs/rest-api/delete-corpus\n",
    "\n",
    "For a greenfield use case, the first step when working with Vectara is to create your corpus. You can think of a corpus as a logical container for your documents.\n",
    "\n",
    "# TODO - MOVE FOLLOWING TO FILTER ATTRIBUTES / CORPUS MODELLING LAB\n",
    "When users first see Vectara, they often put a few documents in the system and run some basic queries, but much of the power of Vectara is only unlocked when\n",
    "combined with two advanced features Vectara brings:\n",
    "\n",
    "* Filter Attributes: metadata on documents and the document parts within them; and\n",
    "* Custom Dimensions: Numerical attributes on a document which allow for boosting.\n",
    "\n",
    "TBC - Add diagram of Account, Document and Document-Part.\n",
    "\n"
   ]
  },
  {
   "cell_type": "code",
   "execution_count": null,
   "id": "ce833f312d2d67b3",
   "metadata": {
    "ExecuteTime": {
     "end_time": "2024-09-19T02:11:28.926117Z",
     "start_time": "2024-09-19T02:11:26.318378Z"
    },
    "collapsed": false,
    "jupyter": {
     "outputs_hidden": false
    }
   },
   "outputs": [],
   "source": [
    "from vectara.managers import CreateCorpusRequest\n",
    "from vectara.factory import Factory\n",
    "from getting_started_util import GettingStartedUtil\n",
    "\n",
    "util = GettingStartedUtil()\n",
    "logger = util.logger\n",
    "client = Factory(profile=\"lab\").build()"
   ]
  },
  {
   "cell_type": "markdown",
   "id": "d4fd4a3402f6ed8b",
   "metadata": {
    "collapsed": false,
    "jupyter": {
     "outputs_hidden": false
    }
   },
   "source": [
    "# Looking a bit closer\n",
    "Up until now we've relied on the LabHelper class to do most of the heavy lifting\n",
    "to create our corpus. We put three tiers of abstraction here to cover different\n",
    "levels of responsibility:\n",
    "\n",
    "1. `vectara.corpora.client.CorporaClient` - Generated API class, performs a direct mapping to Vectara APIs related to Corpora and Corpus\n",
    "2. `vectara.managers.corpus.CorpusManager` - Business Facade on top of CorporaClient which will perform intelligent checks, such as \"check exists\" or \"delete if exists\"\n",
    "3. `vectara.utils.lab_helper.LabHelper` - A second layer on top of CorpusManager to create and clean up lab names with a users prefix.\n",
    "\n",
    "It is important to note that the python request object `vectara.managers.CreateCorpusRequest` is passed down to the underlying API, only being flattened when we invoke `CorporaClient.create`.\n",
    "\n",
    "When we run our code below, we can see all three tiers being invoked in the logging. API methods are visible."
   ]
  },
  {
   "cell_type": "code",
   "execution_count": null,
   "id": "9c48ce456bf26e9f",
   "metadata": {
    "ExecuteTime": {
     "end_time": "2024-09-19T02:11:35.398302Z",
     "start_time": "2024-09-19T02:11:31.736717Z"
    },
    "collapsed": false,
    "jupyter": {
     "outputs_hidden": false
    }
   },
   "outputs": [],
   "source": [
    "request = CreateCorpusRequest(name=\"Getting Started - Corpus Creation\", key=\"04-getting-started-corpus_creation\")\n",
    "response = client.lab_helper.create_lab_corpus(request)\n",
    "corpus_key = response.key\n",
    "\n",
    "logger.info(f\"Our corpus key is [{corpus_key}]\")"
   ]
  },
  {
   "cell_type": "markdown",
   "id": "c14ea55932c29da0",
   "metadata": {
    "collapsed": false,
    "jupyter": {
     "outputs_hidden": false
    }
   },
   "source": [
    "# Corpus Key\n",
    "Each corpus has a unique key which can be set by the request. If not set this will be created by default. If this was the first time running the code, you will see the `CorpusManager` doing a check for the Corpus with the same `key`. From version 2.0 of the Vectara API, the Corpus `key` has become the primary way to identify the corpus targetted for API calls.\n",
    "\n",
    "One other convenience of the `CorpusManager` is to wrap the HTTP 404 error which makes it simpler to do a unique check - otherwise your code would need to wrap the exception from the generated `CorporaClient`.\n",
    "\n",
    "After the unique check, your logs may differ depending on whether this was the first or second time you ran the code.\n",
    "\n",
    "## First Run\n",
    "In this case, you should just see an invocation of the method to **Create a Corpus** (POST to https://api.vectara.io/v2/corpora) with a 201 response.\n",
    "\n",
    "## Subsequent Runs\n",
    "On subsequent runs, you should also see a call to **Delete a Corpus and all its data** (DELETE to  [https://api.vectara.io/v2/corpora/{prefix}_04-getting-started-corpus_creation](https://api.vectara.io/v2/corpora/{prefix}_04-getting-started-corpus_creation) "
   ]
  },
  {
   "cell_type": "markdown",
   "id": "8b8398e3fe71d890",
   "metadata": {
    "collapsed": false,
    "jupyter": {
     "outputs_hidden": false
    }
   },
   "source": [
    "# List Corpora\n",
    "We'll now show how we can list corpora. Similar to the creation of a corpus, you can pick which level of abstraction\n",
    "suits your development style:\n",
    "\n",
    "1. `vectara.corpora.client.CorporaClient` - Generated API class, performs a direct mapping to Vectara APIs related to Corpora and Corpus\n",
    "2. `vectara.managers.corpus.CorpusManager` - Business Facade on top of CorporaClient which will perform intelligent checks, wraps the generator SyncPager returned from the API, creates a limit for list and provides conveinence methods:\n",
    "        1. \"find_corpora_with_filter\" - adds a true \"limit\" whereas the SDK API method returns a generator where the limit is for \"each call\".\n",
    "        2. \"find_corpora_by_name\" - returns all corpora with an exact name match\n",
    "        3. \"find_corpus_by_name\" - returns 1 or None using an exact name match. Throws a \n"
   ]
  },
  {
   "cell_type": "markdown",
   "id": "bff5b9def2e0f30f",
   "metadata": {
    "collapsed": false,
    "jupyter": {
     "outputs_hidden": false
    }
   },
   "source": [
    "## CorporaClient#list\n",
    "We now call the API method directly, this may be useful if you need to control the yield behaviour"
   ]
  },
  {
   "cell_type": "code",
   "execution_count": null,
   "id": "c94695f5476e738f",
   "metadata": {
    "collapsed": false,
    "jupyter": {
     "outputs_hidden": false
    }
   },
   "outputs": [],
   "source": [
    "def list_corpora_gen():\n",
    "    list_response = client.corpora.list(filter=\"Getting Started\", limit=100)\n",
    "    for item in list_response:\n",
    "        yield item\n",
    "    \n",
    "for corpus in list_corpora_gen():\n",
    "    logger.info(f\"Found [{corpus.name}] with key [{corpus.key}]\")"
   ]
  },
  {
   "cell_type": "markdown",
   "id": "1366c012492826e5",
   "metadata": {
    "collapsed": false,
    "jupyter": {
     "outputs_hidden": false
    }
   },
   "source": [
    "## CorpusManager#find_corpora_with_filter\n",
    "For most uses, you can use the more streamlined method below to achieve the same. This is a more standard way to invoke \n",
    "the API, letting the underlying manager handle the generator and paging."
   ]
  },
  {
   "cell_type": "code",
   "execution_count": null,
   "id": "557dd9f49c431703",
   "metadata": {
    "collapsed": false,
    "jupyter": {
     "outputs_hidden": false
    }
   },
   "outputs": [],
   "source": [
    "# Find all the Getting Started corpora, will include other users if visible.\n",
    "for corpus in client.corpus_manager.find_corpora_with_filter(\"Getting Started\"):\n",
    "    logger.info(f\"Found [{corpus.name}] with key [{corpus.key}]\")\n"
   ]
  },
  {
   "cell_type": "code",
   "execution_count": null,
   "id": "565c4c1c18ba3d6a",
   "metadata": {
    "collapsed": false,
    "jupyter": {
     "outputs_hidden": false
    }
   },
   "outputs": [],
   "source": [
    "# We can also run with limit=1\n",
    "for corpus in client.corpus_manager.find_corpora_with_filter(\"Getting Started\", limit=1):\n",
    "    logger.info(f\"Found [{corpus.name}] with key [{corpus.key}]\")"
   ]
  },
  {
   "cell_type": "markdown",
   "id": "aae89505ae4424e8",
   "metadata": {
    "collapsed": false,
    "jupyter": {
     "outputs_hidden": false
    }
   },
   "source": [
    "## CorpusManager#find_corpora_by_name\n",
    "We can also lookup a corpus by name.\n"
   ]
  },
  {
   "cell_type": "code",
   "execution_count": null,
   "id": "591fcfba805f6666",
   "metadata": {
    "collapsed": false,
    "jupyter": {
     "outputs_hidden": false
    }
   },
   "outputs": [],
   "source": [
    "our_name = response.name\n",
    "# Expect 1 or None.\n",
    "corpus = client.corpus_manager.find_corpus_by_name(our_name)\n",
    "logger.info(f\"We found our lab: {corpus.key}\")\n"
   ]
  },
  {
   "cell_type": "code",
   "execution_count": null,
   "id": "dfd5a21033e54499",
   "metadata": {
    "collapsed": false,
    "jupyter": {
     "outputs_hidden": false
    }
   },
   "outputs": [],
   "source": [
    "our_name = response.name\n",
    "# Match multiple exact names, useful for identifying duplicates.\n",
    "corpora = client.corpus_manager.find_corpora_by_name(our_name)\n",
    "logger.info(f\"We found [{len(corpora)}] corpora with our name\")"
   ]
  },
  {
   "cell_type": "markdown",
   "id": "9c9976aa3f434e3",
   "metadata": {
    "collapsed": false,
    "jupyter": {
     "outputs_hidden": false
    }
   },
   "source": [
    "# Delete Corpora\n",
    "Finally, we can delete a corpus using the corpus key."
   ]
  },
  {
   "cell_type": "code",
   "execution_count": null,
   "id": "54d990845244b23b",
   "metadata": {
    "ExecuteTime": {
     "end_time": "2024-09-19T02:11:42.454900Z",
     "start_time": "2024-09-19T02:11:40.637694Z"
    },
    "collapsed": false,
    "jupyter": {
     "outputs_hidden": false
    }
   },
   "outputs": [],
   "source": [
    "client.corpus_manager.delete(corpus_key)"
   ]
  }
 ],
 "metadata": {
  "kernelspec": {
   "display_name": "Python 3 (ipykernel)",
   "language": "python",
   "name": "python3"
  },
  "language_info": {
   "codemirror_mode": {
    "name": "ipython",
    "version": 3
   },
   "file_extension": ".py",
   "mimetype": "text/x-python",
   "name": "python",
   "nbconvert_exporter": "python",
   "pygments_lexer": "ipython3",
   "version": "3.12.1"
  }
 },
 "nbformat": 4,
 "nbformat_minor": 5
}
